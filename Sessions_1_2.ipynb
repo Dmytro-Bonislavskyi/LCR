{
 "cells": [
  {
   "cell_type": "code",
   "execution_count": 2,
   "metadata": {},
   "outputs": [
    {
     "data": {
      "text/plain": [
       "'c:\\\\Users\\\\bonis\\\\Documents\\\\DSI\\\\cohort_5\\\\LCR'"
      ]
     },
     "execution_count": 2,
     "metadata": {},
     "output_type": "execute_result"
    }
   ],
   "source": [
    "import os\n",
    "os.getcwd()"
   ]
  },
  {
   "cell_type": "code",
   "execution_count": 5,
   "metadata": {},
   "outputs": [
    {
     "name": "stdout",
     "output_type": "stream",
     "text": [
      "diagnosis\n",
      "Benign       0.626761\n",
      "Malignant    0.373239\n",
      "Name: proportion, dtype: float64\n"
     ]
    }
   ],
   "source": [
    "import pandas as pd\n",
    "import numpy as np\n",
    "import matplotlib.pyplot as plt\n",
    "from sklearn.model_selection import train_test_split\n",
    "from sklearn.neighbors import KNeighborsClassifier\n",
    "from sklearn.metrics import recall_score, precision_score\n",
    "from sklearn.model_selection import cross_validate\n",
    "from sklearn.model_selection import GridSearchCV\n",
    "\n",
    "cancer = pd.read_csv('01_materials/notebooks/dataset/wdbc.csv')\n",
    "\n",
    "cancer[\"diagnosis\"] = cancer[\"diagnosis\"].replace({\n",
    "    \"M\" : \"Malignant\",\n",
    "    \"B\" : \"Benign\"\n",
    "})\n",
    "\n",
    "# set the seed\n",
    "np.random.seed(1)\n",
    "\n",
    "#split the data\n",
    "cancer_train, cancer_test = train_test_split(\n",
    "    cancer, train_size=0.75, stratify=cancer[\"diagnosis\"], random_state=123\n",
    ")\n",
    "\n",
    "print(cancer_train[\"diagnosis\"].value_counts(normalize=True))\n"
   ]
  },
  {
   "cell_type": "code",
   "execution_count": 9,
   "metadata": {},
   "outputs": [
    {
     "name": "stdout",
     "output_type": "stream",
     "text": [
      "0.9020979020979021\n",
      "predicted  Benign  Malignant\n",
      "diagnosis                   \n",
      "Benign         85          5\n",
      "Malignant       9         44\n"
     ]
    }
   ],
   "source": [
    "knn = KNeighborsClassifier(n_neighbors=5)\n",
    "knn.fit(X=cancer_train[[\"perimeter_mean\", \"concavity_mean\"]], y=cancer_train[\"diagnosis\"])\n",
    "\n",
    "cancer_test[\"predicted\"] = knn.predict(cancer_test[[\"perimeter_mean\", \"concavity_mean\"]])\n",
    "print(knn.score(\n",
    "    cancer_test[[\"perimeter_mean\", \"concavity_mean\"]],\n",
    "    cancer_test[\"diagnosis\"]\n",
    "))\n",
    "\n",
    "print(pd.crosstab(\n",
    "    cancer_test[\"diagnosis\"],\n",
    "    cancer_test[\"predicted\"]\n",
    "))\n",
    "\n",
    "precision_score(\n",
    "    y_true=cancer_test[\"diagnosis\"],\n",
    "    y_pred=cancer_test[\"predicted\"],\n",
    "    pos_label=\"Malignant\"\n",
    ")\n",
    "\n",
    "recall_score(\n",
    "    y_true=cancer_test[\"diagnosis\"],\n",
    "    y_pred=cancer_test[\"predicted\"],\n",
    "    pos_label=\"Malignant\"\n",
    ")"
   ]
  },
  {
   "cell_type": "markdown",
   "metadata": {},
   "source": []
  },
  {
   "cell_type": "code",
   "execution_count": 21,
   "metadata": {},
   "outputs": [
    {
     "data": {
      "text/html": [
       "<div>\n",
       "<style scoped>\n",
       "    .dataframe tbody tr th:only-of-type {\n",
       "        vertical-align: middle;\n",
       "    }\n",
       "\n",
       "    .dataframe tbody tr th {\n",
       "        vertical-align: top;\n",
       "    }\n",
       "\n",
       "    .dataframe thead th {\n",
       "        text-align: right;\n",
       "    }\n",
       "</style>\n",
       "<table border=\"1\" class=\"dataframe\">\n",
       "  <thead>\n",
       "    <tr style=\"text-align: right;\">\n",
       "      <th></th>\n",
       "      <th>fit_time</th>\n",
       "      <th>score_time</th>\n",
       "      <th>test_score</th>\n",
       "    </tr>\n",
       "  </thead>\n",
       "  <tbody>\n",
       "    <tr>\n",
       "      <th>mean</th>\n",
       "      <td>0.002026</td>\n",
       "      <td>0.005653</td>\n",
       "      <td>0.887153</td>\n",
       "    </tr>\n",
       "    <tr>\n",
       "      <th>sem</th>\n",
       "      <td>0.000647</td>\n",
       "      <td>0.000894</td>\n",
       "      <td>0.013425</td>\n",
       "    </tr>\n",
       "  </tbody>\n",
       "</table>\n",
       "</div>"
      ],
      "text/plain": [
       "      fit_time  score_time  test_score\n",
       "mean  0.002026    0.005653    0.887153\n",
       "sem   0.000647    0.000894    0.013425"
      ]
     },
     "execution_count": 21,
     "metadata": {},
     "output_type": "execute_result"
    }
   ],
   "source": [
    "# We're re-using the train_test_split function here in order to split the training data into sub-training and validation sets.\n",
    "cancer_subtrain, cancer_validation = train_test_split(\n",
    "    cancer_train, train_size=0.75, stratify=cancer_train[\"diagnosis\"]\n",
    ")\n",
    "\n",
    "# fit the model on the sub-training data\n",
    "knn = KNeighborsClassifier(n_neighbors=3)\n",
    "X = cancer_subtrain[[\"perimeter_mean\", \"concavity_mean\"]]\n",
    "y = cancer_subtrain[\"diagnosis\"]\n",
    "knn.fit(X, y)\n",
    "\n",
    "# compute the score on validation data\n",
    "acc = knn.score(\n",
    "    cancer_validation[[\"perimeter_mean\", \"concavity_mean\"]],\n",
    "    cancer_validation[\"diagnosis\"]\n",
    ")\n",
    "\n",
    "returned_dictionary = cross_validate(\n",
    "    estimator=knn,\n",
    "    cv=5,    # setting up the cross validation number\n",
    "    X=X,\n",
    "    y=y\n",
    ")\n",
    "\n",
    "cv_5_df = pd.DataFrame(returned_dictionary)    # Converting it to pandas DataFrame\n",
    "\n",
    "# Compute mean and standard error of the mean (SEM) for each column\n",
    "cv_5_metrics = cv_5_df.agg([\"mean\", \"sem\"])\n",
    "cv_5_metrics"
   ]
  },
  {
   "cell_type": "code",
   "execution_count": 28,
   "metadata": {},
   "outputs": [
    {
     "data": {
      "image/png": "[encoded data removed]",
      "text/plain": [
       "<Figure size 1000x600 with 1 Axes>"
      ]
     },
     "metadata": {},
     "output_type": "display_data"
    },
    {
     "data": {
      "text/plain": [
       "{'n_neighbors': 66}"
      ]
     },
     "execution_count": 28,
     "metadata": {},
     "output_type": "execute_result"
    }
   ],
   "source": [
    "parameter_grid = {\n",
    "    \"n_neighbors\": range(1, 100, 5),\n",
    "    #\"weights\" : ['uniform', 'distance']\n",
    "}\n",
    "\n",
    "# Encode the target labels\n",
    "#from sklearn.preprocessing import LabelEncoder\n",
    "#label_encoder = LabelEncoder()\n",
    "#cancer_train[\"diagnosis\"] = label_encoder.fit_transform(cancer_train[\"diagnosis\"])  # 0 = 'Benign', 1 = 'Malignant'\n",
    "\n",
    "cancer_tune_grid = GridSearchCV(\n",
    "    estimator=knn,\n",
    "    param_grid=parameter_grid,\n",
    "    cv=10,\n",
    "    scoring='accuracy'\n",
    "    #scoring=['recall','accuracy']\n",
    "    #refit=False\n",
    ")\n",
    "\n",
    "cancer_tune_grid.fit(\n",
    "    cancer_train[[\"perimeter_mean\", \"concavity_mean\"]],\n",
    "    cancer_train[\"diagnosis\"]\n",
    ")\n",
    "\n",
    "accuracies_grid = pd.DataFrame(cancer_tune_grid.cv_results_)\n",
    "\n",
    "# Create the plot\n",
    "plt.figure(figsize=(10, 6))\n",
    "\n",
    "# Plot mean test scores with error bars\n",
    "plt.plot(accuracies_grid['param_n_neighbors'], accuracies_grid['mean_test_score'], '-o', color='blue')\n",
    "\n",
    "#accuracies_grid['mean_test_score_rolling_avg_10'] = accuracies_grid['mean_test_score'].rolling(10).mean()\n",
    "#plt.plot(accuracies_grid['param_n_neighbors'], accuracies_grid['mean_test_score_rolling_avg_10'], color='red')\n",
    "\n",
    "# Add labels and legend\n",
    "plt.xlabel('Number of Neighbors')\n",
    "plt.ylabel('Accuracy estimate')\n",
    "plt.title('K-Nearest Neighbors Performance')\n",
    "plt.tight_layout()\n",
    "plt.show()\n",
    "\n",
    "cancer_tune_grid.best_params_"
   ]
  }
 ],
 "metadata": {
  "kernelspec": {
   "display_name": "dsi_participant",
   "language": "python",
   "name": "python3"
  },
  "language_info": {
   "codemirror_mode": {
    "name": "ipython",
    "version": 3
   },
   "file_extension": ".py",
   "mimetype": "text/x-python",
   "name": "python",
   "nbconvert_exporter": "python",
   "pygments_lexer": "ipython3",
   "version": "3.9.15"
  }
 },
 "nbformat": 4,
 "nbformat_minor": 2
}
